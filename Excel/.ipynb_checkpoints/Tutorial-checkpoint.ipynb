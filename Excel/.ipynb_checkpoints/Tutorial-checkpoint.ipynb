{
 "cells": [
  {
   "cell_type": "markdown",
   "metadata": {},
   "source": [
    "[Package Doc](https://xlsxwriter.readthedocs.io/)"
   ]
  },
  {
   "cell_type": "code",
   "execution_count": 2,
   "metadata": {
    "ExecuteTime": {
     "end_time": "2020-05-04T14:18:05.608153Z",
     "start_time": "2020-05-04T14:18:05.581179Z"
    }
   },
   "outputs": [],
   "source": [
    "import xlsxwriter\n",
    "\n",
    "# Create a workbook and add a worksheet.\n",
    "workbook = xlsxwriter.Workbook('../data/excel_demo.xlsx')\n",
    "worksheet = workbook.add_worksheet()\n",
    "\n",
    "# Some data we want to write to the worksheet.\n",
    "expenses = (\n",
    "    ['Rent', 1000],\n",
    "    ['Gas',   100],\n",
    "    ['Food',  300],\n",
    "    ['Gym',    50],\n",
    ")\n",
    "\n",
    "# Start from the first cell. Rows and columns are zero indexed.\n",
    "row = 0\n",
    "col = 0\n",
    "\n",
    "# Iterate over the data and write it out row by row.\n",
    "for item, cost in (expenses):\n",
    "    worksheet.write(row, col,     item)\n",
    "    worksheet.write(row, col + 1, cost)\n",
    "    row += 1\n",
    "\n",
    "# Write a total using a formula.\n",
    "worksheet.write(row, 0, 'Total')\n",
    "worksheet.write(row, 1, '=SUM(B1:B4)')\n",
    "\n",
    "workbook.close()"
   ]
  },
  {
   "cell_type": "code",
   "execution_count": null,
   "metadata": {},
   "outputs": [],
   "source": []
  }
 ],
 "metadata": {
  "kernelspec": {
   "display_name": "Python 3",
   "language": "python",
   "name": "python3"
  },
  "language_info": {
   "codemirror_mode": {
    "name": "ipython",
    "version": 3
   },
   "file_extension": ".py",
   "mimetype": "text/x-python",
   "name": "python",
   "nbconvert_exporter": "python",
   "pygments_lexer": "ipython3",
   "version": "3.8.2"
  },
  "toc": {
   "base_numbering": 1,
   "nav_menu": {},
   "number_sections": true,
   "sideBar": true,
   "skip_h1_title": false,
   "title_cell": "Table of Contents",
   "title_sidebar": "Contents",
   "toc_cell": false,
   "toc_position": {},
   "toc_section_display": true,
   "toc_window_display": false
  }
 },
 "nbformat": 4,
 "nbformat_minor": 4
}
